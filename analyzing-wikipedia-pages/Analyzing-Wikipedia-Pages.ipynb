{
 "cells": [
  {
   "cell_type": "markdown",
   "id": "9ed2b47f",
   "metadata": {},
   "source": [
    "# Dataquest Project: Analyzing Wikipedia Pages"
   ]
  },
  {
   "cell_type": "markdown",
   "id": "34ea4e41",
   "metadata": {},
   "source": [
    "The goal of this project is to create a simplified version of the grep terminal command to search a collection of articles scraped from Wikipedia. To do this, we will use th map-reduce framework we learned about in the lessons. "
   ]
  },
  {
   "cell_type": "markdown",
   "id": "bd11f805",
   "metadata": {},
   "source": [
    "## Exploring the Data"
   ]
  },
  {
   "cell_type": "code",
   "execution_count": 3,
   "id": "1f8e7c2b",
   "metadata": {},
   "outputs": [],
   "source": [
    "import os"
   ]
  },
  {
   "cell_type": "code",
   "execution_count": 4,
   "id": "78c20984",
   "metadata": {},
   "outputs": [],
   "source": [
    "file_names = os.listdir(\"wiki\")"
   ]
  },
  {
   "cell_type": "code",
   "execution_count": 5,
   "id": "d49760a7",
   "metadata": {},
   "outputs": [
    {
     "data": {
      "text/plain": [
       "999"
      ]
     },
     "execution_count": 5,
     "metadata": {},
     "output_type": "execute_result"
    }
   ],
   "source": [
    "len(file_names)"
   ]
  },
  {
   "cell_type": "code",
   "execution_count": 6,
   "id": "25eb4f74",
   "metadata": {},
   "outputs": [],
   "source": [
    "folder_name = \"wiki\"\n",
    "file_name = \"Dragnet_(franchise).html\"\n",
    "with open(os.path.join(folder_name, file_name)) as f:\n",
    "    file_one = f.readlines()"
   ]
  },
  {
   "cell_type": "code",
   "execution_count": 30,
   "id": "5d7c5d98",
   "metadata": {},
   "outputs": [
    {
     "data": {
      "text/plain": [
       "['<!DOCTYPE html>\\n',\n",
       " '<html class=\"client-nojs\" lang=\"en\" dir=\"ltr\">\\n',\n",
       " '<head>\\n',\n",
       " '<meta charset=\"UTF-8\"/>\\n',\n",
       " '<title>Dragnet (franchise) - Wikipedia</title>\\n',\n",
       " '<script>document.documentElement.className = document.documentElement.className.replace( /(^|\\\\s)client-nojs(\\\\s|$)/, \"$1client-js$2\" );</script>\\n',\n",
       " '<script>(window.RLQ=window.RLQ||[]).push(function(){mw.config.set({\"wgCanonicalNamespace\":\"\",\"wgCanonicalSpecialPageName\":false,\"wgNamespaceNumber\":0,\"wgPageName\":\"Dragnet_(franchise)\",\"wgTitle\":\"Dragnet (franchise)\",\"wgCurRevisionId\":765947026,\"wgRevisionId\":765947026,\"wgArticleId\":113356,\"wgIsArticle\":true,\"wgIsRedirect\":false,\"wgAction\":\"view\",\"wgUserName\":null,\"wgUserGroups\":[\"*\"],\"wgCategories\":[\"Use mdy dates from June 2013\",\"All articles with peacock terms\",\"Articles with peacock terms from September 2015\",\"All articles with unsourced statements\",\"Articles with unsourced statements from September 2015\",\"Articles to be expanded from January 2016\",\"All articles to be expanded\",\"Articles using small message boxes\",\"Articles with unsourced statements from June 2012\",\"Commons category with local link same as on Wikidata\",\"Pages using ISBN magic links\",\"Dragnet (franchise)\",\"1954 films\",\"1969 films\",\"1951 American television series debuts\",\"1959 American television series endings\",\"1967 American television series debuts\",\"1970 American television series endings\",\"2003 American television series debuts\",\"2004 American television series endings\",\"1950s American television series\",\"1960s American television series\",\"1980s American television series\",\"2000s American television series\",\"American Broadcasting Company network shows\",\"Black-and-white television programs\",\"American crime television series\",\"Edgar Award-winning works\",\"English-language television programming\",\"NBC network shows\",\"Police procedural television series\",\"Television series by Universal Television\",\"Television series by Mark VII Limited\",\"Television series revived after cancellation\",\"Television shows set in Los Angeles\",\"Fictional portrayals of the Los Angeles Police Department\",\"Fictional police officers\",\"Television series based on radio programs\",\"Television series reboots\"],\"wgBreakFrames\":false,\"wgPageContentLanguage\":\"en\",\"wgPageContentModel\":\"wikitext\",\"wgSeparatorTransformTable\":[\"\",\"\"],\"wgDigitTransformTable\":[\"\",\"\"],\"wgDefaultDateFormat\":\"dmy\",\"wgMonthNames\":[\"\",\"January\",\"February\",\"March\",\"April\",\"May\",\"June\",\"July\",\"August\",\"September\",\"October\",\"November\",\"December\"],\"wgMonthNamesShort\":[\"\",\"Jan\",\"Feb\",\"Mar\",\"Apr\",\"May\",\"Jun\",\"Jul\",\"Aug\",\"Sep\",\"Oct\",\"Nov\",\"Dec\"],\"wgRelevantPageName\":\"Dragnet_(franchise)\",\"wgRelevantArticleId\":113356,\"wgRequestId\":\"WLYS8wpAAD8AAIXnyYYAAAAW\",\"wgIsProbablyEditable\":true,\"wgRestrictionEdit\":[],\"wgRestrictionMove\":[],\"wgFlaggedRevsParams\":{\"tags\":{}},\"wgStableRevisionId\":null,\"wgWikiEditorEnabledModules\":{\"toolbar\":true,\"dialogs\":true,\"preview\":false,\"publish\":false},\"wgBetaFeaturesFeatures\":[],\"wgMediaViewerOnClick\":true,\"wgMediaViewerEnabledByDefault\":true,\"wgPopupsShouldSendModuleToUser\":false,\"wgPopupsConflictsWithNavPopupGadget\":false,\"wgVisualEditor\":{\"pageLanguageCode\":\"en\",\"pageLanguageDir\":\"ltr\",\"usePageImages\":true,\"usePageDescriptions\":true},\"wgPreferredVariant\":\"en\",\"wgMFDisplayWikibaseDescriptions\":{\"search\":true,\"nearby\":true,\"watchlist\":true,\"tagline\":true},\"wgRelatedArticles\":null,\"wgRelatedArticlesBetaFeatureEnabled\":false,\"wgRelatedArticlesUseCirrusSearch\":true,\"wgRelatedArticlesOnlyUseCirrusSearch\":false,\"wgULSCurrentAutonym\":\"English\",\"wgNoticeProject\":\"wikipedia\",\"wgCentralNoticeCookiesToDelete\":[],\"wgCentralNoticeCategoriesUsingLegacy\":[\"Fundraising\",\"fundraising\"],\"wgCategoryTreePageCategoryOptions\":\"{\\\\\"mode\\\\\":0,\\\\\"hideprefix\\\\\":20,\\\\\"showcount\\\\\":true,\\\\\"namespaces\\\\\":false}\",\"wgWikibaseItemId\":\"Q16909472\",\"wgCentralAuthMobileDomain\":false,\"wgVisualEditorToolbarScrollOffset\":0,\"wgEditSubmitButtonLabelPublish\":false});mw.loader.state({\"ext.globalCssJs.user.styles\":\"ready\",\"ext.globalCssJs.site.styles\":\"ready\",\"site.styles\":\"ready\",\"noscript\":\"ready\",\"user.styles\":\"ready\",\"user\":\"ready\",\"user.options\":\"loading\",\"user.tokens\":\"loading\",\"ext.math.styles\":\"ready\",\"ext.cite.styles\":\"ready\",\"wikibase.client.init\":\"ready\",\"ext.visualEditor.desktopArticleTarget.noscript\":\"ready\",\"ext.uls.interlanguage\":\"ready\",\"ext.wikimediaBadges\":\"ready\",\"mediawiki.legacy.shared\":\"ready\",\"mediawiki.legacy.commonPrint\":\"ready\",\"mediawiki.sectionAnchor\":\"ready\",\"mediawiki.skinning.interface\":\"ready\",\"skins.vector.styles\":\"ready\",\"ext.globalCssJs.user\":\"ready\",\"ext.globalCssJs.site\":\"ready\"});mw.loader.implement(\"user.options@0j3lz3q\",function($,jQuery,require,module){mw.user.options.set({\"variant\":\"en\"});});mw.loader.implement(\"user.tokens@1dqfd7l\",function ( $, jQuery, require, module ) {\\n',\n",
       " 'mw.user.tokens.set({\"editToken\":\"+\\\\\\\\\",\"patrolToken\":\"+\\\\\\\\\",\"watchToken\":\"+\\\\\\\\\",\"csrfToken\":\"+\\\\\\\\\"});/*@nomin*/;\\n',\n",
       " '\\n',\n",
       " '});mw.loader.load([\"ext.cite.a11y\",\"mediawiki.toc\",\"mediawiki.action.view.postEdit\",\"site\",\"mediawiki.page.startup\",\"mediawiki.user\",\"mediawiki.hidpi\",\"mediawiki.page.ready\",\"mediawiki.legacy.wikibits\",\"mediawiki.searchSuggest\",\"ext.gadget.teahouse\",\"ext.gadget.ReferenceTooltips\",\"ext.gadget.watchlist-notice\",\"ext.gadget.DRN-wizard\",\"ext.gadget.charinsert\",\"ext.gadget.refToolbar\",\"ext.gadget.extra-toolbar-buttons\",\"ext.gadget.switcher\",\"ext.gadget.featured-articles-links\",\"ext.centralauth.centralautologin\",\"mmv.head\",\"mmv.bootstrap.autostart\",\"ext.visualEditor.desktopArticleTarget.init\",\"ext.visualEditor.targetLoader\",\"ext.eventLogging.subscriber\",\"ext.wikimediaEvents\",\"ext.navigationTiming\",\"ext.uls.eventlogger\",\"ext.uls.init\",\"ext.uls.interface\",\"ext.quicksurveys.init\",\"ext.centralNotice.geoIP\",\"ext.centralNotice.startUp\",\"skins.vector.js\"]);});</script>\\n']"
      ]
     },
     "execution_count": 30,
     "metadata": {},
     "output_type": "execute_result"
    }
   ],
   "source": [
    "file_one[0:10]"
   ]
  },
  {
   "cell_type": "markdown",
   "id": "51d52e29",
   "metadata": {},
   "source": [
    "## Setting up the Map-Reduce Framework"
   ]
  },
  {
   "cell_type": "code",
   "execution_count": 8,
   "id": "3bf9af23",
   "metadata": {},
   "outputs": [],
   "source": [
    "import math\n",
    "import functools\n",
    "from multiprocessing import Pool"
   ]
  },
  {
   "cell_type": "code",
   "execution_count": 9,
   "id": "aadd0fbe",
   "metadata": {},
   "outputs": [],
   "source": [
    "def make_chunks(data, num_chunks):\n",
    "    chunk_size = math.ceil(len(data) / num_chunks)\n",
    "    return [data[i:i+chunk_size] for i in range(0, len(data), chunk_size)]\n",
    "\n",
    "def map_reduce(data, num_processes, mapper, reducer):\n",
    "    chunks = make_chunks(data, num_processes)\n",
    "    with Pool(num_processes) as pool:\n",
    "        chunk_results = pool.map(mapper, chunks)\n",
    "    return functools.reduce(reducer, chunk_results)"
   ]
  },
  {
   "cell_type": "markdown",
   "id": "58cd19d9",
   "metadata": {},
   "source": [
    "## Counting the Total Number of Lines"
   ]
  },
  {
   "cell_type": "code",
   "execution_count": 10,
   "id": "4e6fe67b",
   "metadata": {},
   "outputs": [],
   "source": [
    "def line_mapper(file_names):\n",
    "    total = 0\n",
    "    for name in file_names:\n",
    "        with open(os.path.join('wiki', name)) as f:\n",
    "            total += len(f.readlines())\n",
    "    return total"
   ]
  },
  {
   "cell_type": "code",
   "execution_count": 11,
   "id": "56fdf829",
   "metadata": {},
   "outputs": [],
   "source": [
    "def line_reducer(count1, count2):\n",
    "    return count1 + count2"
   ]
  },
  {
   "cell_type": "code",
   "execution_count": 12,
   "id": "4c09cfa3",
   "metadata": {},
   "outputs": [],
   "source": [
    "total_lines = map_reduce(file_names, 4, line_mapper, line_reducer)"
   ]
  },
  {
   "cell_type": "code",
   "execution_count": 13,
   "id": "325b011c",
   "metadata": {},
   "outputs": [
    {
     "data": {
      "text/plain": [
       "499797"
      ]
     },
     "execution_count": 13,
     "metadata": {},
     "output_type": "execute_result"
    }
   ],
   "source": [
    "total_lines"
   ]
  },
  {
   "cell_type": "markdown",
   "id": "ee923de0",
   "metadata": {},
   "source": [
    "## Creating a Grep Exact Match Algorithm "
   ]
  },
  {
   "cell_type": "code",
   "execution_count": 14,
   "id": "6e68eb5d",
   "metadata": {},
   "outputs": [],
   "source": [
    "target_string = 'data'"
   ]
  },
  {
   "cell_type": "code",
   "execution_count": 15,
   "id": "5645535c",
   "metadata": {},
   "outputs": [],
   "source": [
    "def grep_mapper(file_names):\n",
    "    return_dict = {}\n",
    "    for name in file_names:\n",
    "        with open(os.path.join('wiki', name)) as f:\n",
    "            f_contents = f.readlines()\n",
    "        for line in f_contents:\n",
    "            if target_string in line:\n",
    "                return_dict[name] = []\n",
    "                break\n",
    "        for i in range(len(f_contents)):\n",
    "            if target_string in f_contents[i]:\n",
    "                return_dict[name].append(i)\n",
    "    return return_dict"
   ]
  },
  {
   "cell_type": "code",
   "execution_count": 16,
   "id": "47191110",
   "metadata": {},
   "outputs": [],
   "source": [
    "def grep_reducer(dic1, dic2):\n",
    "    dic1.update(dic2)\n",
    "    return dic1"
   ]
  },
  {
   "cell_type": "code",
   "execution_count": 17,
   "id": "64e218db",
   "metadata": {},
   "outputs": [],
   "source": [
    "locations_str_data = map_reduce(file_names, 8, grep_mapper, grep_reducer)"
   ]
  },
  {
   "cell_type": "markdown",
   "id": "3f031cab",
   "metadata": {},
   "source": [
    "## Making the Grep Algorithm Case Insensitive"
   ]
  },
  {
   "cell_type": "code",
   "execution_count": 19,
   "id": "ece48db5",
   "metadata": {},
   "outputs": [],
   "source": [
    "def grep_mapper_case(file_names):\n",
    "    return_dict = {}\n",
    "    for name in file_names:\n",
    "        with open(os.path.join('wiki', name)) as f:\n",
    "            f_contents = [line.lower() for line in f.readlines()]\n",
    "        for line in f_contents:\n",
    "            if target_string.lower() in line:\n",
    "                return_dict[name] = []\n",
    "                break\n",
    "        for i in range(len(f_contents)):\n",
    "            if target_string.lower() in f_contents[i]:\n",
    "                return_dict[name].append(i)\n",
    "    return return_dict\n",
    "\n",
    "def grep_reducer_case(dic1, dic2):\n",
    "    dic1.update(dic2)\n",
    "    return dic1"
   ]
  },
  {
   "cell_type": "code",
   "execution_count": 20,
   "id": "b8a7d79d",
   "metadata": {},
   "outputs": [],
   "source": [
    "data_locations_case_insensitive = map_reduce(file_names, 8, grep_mapper_case, grep_reducer_case)"
   ]
  },
  {
   "cell_type": "markdown",
   "id": "e45e44c5",
   "metadata": {},
   "source": [
    "### Checking that the Case-Insensitive Version Returns More Results"
   ]
  },
  {
   "cell_type": "code",
   "execution_count": 22,
   "id": "99bc7a2b",
   "metadata": {},
   "outputs": [
    {
     "name": "stdout",
     "output_type": "stream",
     "text": [
      "West_Park_Bridge.html:1\n",
      "Urs_Burkart.html:1\n",
      "Harry_Hill_Bandholtz.html:1\n",
      "Cryptographic_primitive.html:1\n",
      "Saravan_Gilan.html:1\n",
      "Precorrin6A_reductase.html:2\n",
      "Gordon_Bau.html:2\n",
      "Kim_Yonghwa.html:2\n",
      "Camp_Nelson_Confederate_Cemetery.html:1\n",
      "Julien_Boisselier.html:1\n",
      "Lis_LC3B8wert.html:1\n",
      "Don_Parsons_(ice_hockey).html:1\n",
      "Ek_Dil_Sau_Afsane.html:1\n",
      "Exploratorium_(film).html:1\n",
      "Morgana_King.html:1\n",
      "Devil_on_Horseback.html:1\n",
      "A_Beautiful_Valley.html:1\n",
      "WLSR.html:1\n",
      "C389cole_des_Mines_de_Douai.html:1\n",
      "Gulliver_Mickey.html:1\n",
      "Battle_of_Wattignies.html:1\n",
      "Tropical_sprue.html:1\n",
      "C11orf30.html:1\n",
      "Taylor_Williamson.html:1\n",
      "List_of_molecular_graphics_systems.html:4\n",
      "Companys_procC3A9s_a_Catalunya.html:1\n",
      "Doumanaba.html:1\n",
      "Bahmanabade_Olya.html:1\n",
      "SalemAuburn_Streets_Historic_District.html:1\n",
      "Wilhelm_Wagenfeld_House.html:1\n",
      "The_Future_(film).html:1\n",
      "Peter_Collingwood.html:1\n",
      "Mudramothiram.html:1\n",
      "Code_page_1023.html:3\n",
      "Demographics_of_American_Samoa.html:1\n",
      "Appa_(film).html:1\n",
      "Oldfield_Baby_Great_Lakes.html:1\n",
      "Kattukukke.html:1\n",
      "Maniitsoq_structure.html:3\n",
      "Don_Raye.html:1\n",
      "Claire_Danes.html:2\n",
      "Pushkar.html:1\n",
      "L._Fry.html:1\n",
      "Danish_Maritime_Safety_Administration.html:1\n",
      "Dragnet_(franchise).html:6\n",
      "Dean_Kukan.html:1\n",
      "The_Gentleman_Without_a_Residence_(1915_film).html:1\n",
      "Imperial_Venus_(film).html:1\n",
      "List_of_Uzbek_films_of_2014.html:1\n",
      "HD_90156.html:1\n",
      "Jack_Goes_Home.html:1\n",
      "Kokan_Colony.html:1\n",
      "Taipa_HousesE28093Museum.html:2\n",
      "List_of_people_from_Bangor_Maine.html:7\n",
      "Table_Point_Formation.html:1\n",
      "Jonathan_A._Goldstein.html:1\n",
      "Boardman_Township_Mahoning_County_Ohio.html:1\n",
      "WintersWimberley_House.html:1\n",
      "Viva_Villa.html:2\n",
      "Frost_Township_Michigan.html:1\n",
      "Bias.html:1\n",
      "Westchester_Los_Angeles.html:1\n",
      "Tim_Spencer_(singer).html:1\n",
      "Tomohiko_ItC58D_(director).html:2\n",
      "Agaritine_gammaglutamyltransferase.html:2\n",
      "Kate_Harwood.html:2\n",
      "Foulonia.html:1\n",
      "King_Parker_House.html:1\n",
      "Syngenor.html:1\n",
      "Vojin_C486etkoviC487.html:1\n",
      "Jazz_in_Turkey.html:1\n",
      "Typhoon_Hester_(1952).html:1\n",
      "Panchamrutham.html:1\n",
      "Ingrid_GuimarC3A3es.html:1\n",
      "Embraer_Unidade_GaviC3A3o_Peixoto_Airport.html:1\n",
      "Brownfield_(software_development).html:1\n",
      "Shoreyjehye_Do.html:1\n",
      "Old_Mill_Creek_Illinois.html:1\n",
      "Golabkhvaran.html:1\n",
      "Jules_Verne_ATV.html:2\n",
      "Derek_Acorah.html:1\n",
      "KMTZ.html:1\n",
      "Sahanpur.html:1\n",
      "Cobble_Hill_Brooklyn.html:1\n",
      "Lake_County_Examiner.html:1\n",
      "Ordinary_Virginia.html:1\n",
      "Manhattan_Murder_Mystery.html:1\n",
      "Medicago_murex.html:1\n",
      "Mirisah.html:1\n",
      "Rudy_The_Rudy_Giuliani_Story.html:1\n",
      "Dewoitine_D.21.html:1\n",
      "Jon_Mullich.html:1\n",
      "Lower_Blackburn_Grade_Bridge.html:1\n",
      "Bibiana_Beglau.html:1\n",
      "Kul_Gul.html:1\n",
      "Shabbir_Kumar.html:1\n",
      "Antibiotic_use_in_livestock.html:1\n",
      "Acceptance_(Heroes).html:1\n",
      "Wilson_Global_Explorer.html:1\n",
      "Avengers_Academy.html:1\n",
      "Hayateumi_Hidehito.html:1\n",
      "Smilax_laurifolia.html:1\n",
      "CurtissWright_Hangar_(Columbia_South_Carolina).html:1\n",
      "Nuno_Leal_Maia.html:1\n",
      "Roxbury_Presbyterian_Church.html:1\n",
      "Daniel_Cerone.html:1\n",
      "Qalat_Kat.html:1\n",
      "Amborella.html:1\n",
      "Morning_Glory_(2010_film).html:1\n",
      "Shpolskii_matrix.html:2\n",
      "1953E2809354_FA_Cup_qualifying_rounds.html:1\n",
      "Pictogram.html:1\n",
      "Colchester_Village_Historic_District.html:1\n",
      "List_of_Spaghetti_Western_films.html:2\n",
      "Craig_Chester.html:1\n",
      "Meleh_Kabude_Sofla.html:1\n",
      "Alex_Kurtzman.html:1\n",
      "Functoid.html:1\n",
      "Holly_Golightly_(comics).html:1\n",
      "The_Audacity_to_Podcast.html:2\n",
      "Furto_di_sera_bel_colpo_si_spera.html:1\n",
      "Teiji_Ito.html:1\n",
      "Filip_Pyrochta.html:1\n",
      "Weiser_River.html:1\n",
      "Claudia_Neidig.html:1\n",
      "PTPRS.html:1\n",
      "Failing_Office_Building.html:1\n",
      "Sol_Eclipse.html:1\n",
      "Copamyntis_infusella.html:1\n",
      "Benny_Lee.html:1\n",
      "Blue_SWAT.html:1\n",
      "83_(number).html:1\n",
      "Rally_for_Democracy_and_Progress_(Benin).html:1\n",
      "Swathi_Chinukulu.html:1\n"
     ]
    }
   ],
   "source": [
    "for key in data_locations_case_insensitive:\n",
    "    if len(data_locations_case_insensitive[key]) > len(locations_str_data[key]):\n",
    "        print(\"{}:{}\".format(key, len(data_locations_case_insensitive[key]) - len(locations_str_data[key])))"
   ]
  },
  {
   "cell_type": "markdown",
   "id": "91d6d69f",
   "metadata": {},
   "source": [
    "## Adding Match Positions on Each Line to the Algorithm"
   ]
  },
  {
   "cell_type": "code",
   "execution_count": 23,
   "id": "bdda585e",
   "metadata": {},
   "outputs": [],
   "source": [
    "import re\n",
    "def grep_mapper_line_positions(file_names):\n",
    "    return_dict = {}\n",
    "    for name in file_names:\n",
    "        with open(os.path.join('wiki', name)) as f:\n",
    "            f_contents = [line.lower() for line in f.readlines()]\n",
    "        for line in f_contents:\n",
    "            if target_string.lower() in line:\n",
    "                return_dict[name] = []\n",
    "                break\n",
    "        for i in range(len(f_contents)):\n",
    "            start_indexes = [m.start() for m in re.finditer(target_string.lower(), f_contents[i])]\n",
    "            for s in start_indexes:\n",
    "                return_dict[name].append((i, s))\n",
    "    return return_dict\n",
    "\n",
    "def grep_reducer_line_positions(dic1, dic2):\n",
    "    dic1.update(dic2)\n",
    "    return dic1"
   ]
  },
  {
   "cell_type": "code",
   "execution_count": 24,
   "id": "60e1e30d",
   "metadata": {},
   "outputs": [],
   "source": [
    "data_locations_match_positions = map_reduce(file_names, 8, grep_mapper_line_positions, grep_reducer_line_positions)"
   ]
  },
  {
   "cell_type": "markdown",
   "id": "ad164635",
   "metadata": {},
   "source": [
    "## Writing the Results to a CSV File"
   ]
  },
  {
   "cell_type": "code",
   "execution_count": 26,
   "id": "05f7dc84",
   "metadata": {},
   "outputs": [],
   "source": [
    "import csv\n",
    "import pandas as pd\n",
    "\n",
    "with open(\"results-data.csv\", \"w\") as f:\n",
    "    writer = csv.writer(f)\n",
    "    rows = [[\"File\", \"Line\", \"Index\"]]\n",
    "    for key in data_locations_match_positions:\n",
    "        for line, index in data_locations_match_positions[key]:\n",
    "            rows.append([key, line, index])\n",
    "    writer.writerows(rows)"
   ]
  },
  {
   "cell_type": "code",
   "execution_count": 27,
   "id": "82b7a437",
   "metadata": {},
   "outputs": [],
   "source": [
    "results = pd.read_csv('results-data.csv')"
   ]
  },
  {
   "cell_type": "code",
   "execution_count": 32,
   "id": "33ae1297",
   "metadata": {},
   "outputs": [
    {
     "data": {
      "text/html": [
       "<div>\n",
       "<style scoped>\n",
       "    .dataframe tbody tr th:only-of-type {\n",
       "        vertical-align: middle;\n",
       "    }\n",
       "\n",
       "    .dataframe tbody tr th {\n",
       "        vertical-align: top;\n",
       "    }\n",
       "\n",
       "    .dataframe thead th {\n",
       "        text-align: right;\n",
       "    }\n",
       "</style>\n",
       "<table border=\"1\" class=\"dataframe\">\n",
       "  <thead>\n",
       "    <tr style=\"text-align: right;\">\n",
       "      <th></th>\n",
       "      <th>File</th>\n",
       "      <th>Line</th>\n",
       "      <th>Index</th>\n",
       "    </tr>\n",
       "  </thead>\n",
       "  <tbody>\n",
       "    <tr>\n",
       "      <th>0</th>\n",
       "      <td>Torovirinae.html</td>\n",
       "      <td>89</td>\n",
       "      <td>18</td>\n",
       "    </tr>\n",
       "    <tr>\n",
       "      <th>1</th>\n",
       "      <td>Torovirinae.html</td>\n",
       "      <td>91</td>\n",
       "      <td>348</td>\n",
       "    </tr>\n",
       "    <tr>\n",
       "      <th>2</th>\n",
       "      <td>Torovirinae.html</td>\n",
       "      <td>91</td>\n",
       "      <td>370</td>\n",
       "    </tr>\n",
       "    <tr>\n",
       "      <th>3</th>\n",
       "      <td>Torovirinae.html</td>\n",
       "      <td>140</td>\n",
       "      <td>40</td>\n",
       "    </tr>\n",
       "    <tr>\n",
       "      <th>4</th>\n",
       "      <td>Torovirinae.html</td>\n",
       "      <td>223</td>\n",
       "      <td>995</td>\n",
       "    </tr>\n",
       "    <tr>\n",
       "      <th>5</th>\n",
       "      <td>Torovirinae.html</td>\n",
       "      <td>223</td>\n",
       "      <td>1045</td>\n",
       "    </tr>\n",
       "    <tr>\n",
       "      <th>6</th>\n",
       "      <td>Torovirinae.html</td>\n",
       "      <td>223</td>\n",
       "      <td>1089</td>\n",
       "    </tr>\n",
       "    <tr>\n",
       "      <th>7</th>\n",
       "      <td>Torovirinae.html</td>\n",
       "      <td>248</td>\n",
       "      <td>124</td>\n",
       "    </tr>\n",
       "    <tr>\n",
       "      <th>8</th>\n",
       "      <td>West_Park_Bridge.html</td>\n",
       "      <td>6</td>\n",
       "      <td>420</td>\n",
       "    </tr>\n",
       "    <tr>\n",
       "      <th>9</th>\n",
       "      <td>West_Park_Bridge.html</td>\n",
       "      <td>64</td>\n",
       "      <td>658</td>\n",
       "    </tr>\n",
       "    <tr>\n",
       "      <th>10</th>\n",
       "      <td>West_Park_Bridge.html</td>\n",
       "      <td>64</td>\n",
       "      <td>681</td>\n",
       "    </tr>\n",
       "    <tr>\n",
       "      <th>11</th>\n",
       "      <td>West_Park_Bridge.html</td>\n",
       "      <td>66</td>\n",
       "      <td>401</td>\n",
       "    </tr>\n",
       "    <tr>\n",
       "      <th>12</th>\n",
       "      <td>West_Park_Bridge.html</td>\n",
       "      <td>66</td>\n",
       "      <td>422</td>\n",
       "    </tr>\n",
       "    <tr>\n",
       "      <th>13</th>\n",
       "      <td>West_Park_Bridge.html</td>\n",
       "      <td>75</td>\n",
       "      <td>590</td>\n",
       "    </tr>\n",
       "    <tr>\n",
       "      <th>14</th>\n",
       "      <td>West_Park_Bridge.html</td>\n",
       "      <td>75</td>\n",
       "      <td>613</td>\n",
       "    </tr>\n",
       "    <tr>\n",
       "      <th>15</th>\n",
       "      <td>West_Park_Bridge.html</td>\n",
       "      <td>77</td>\n",
       "      <td>401</td>\n",
       "    </tr>\n",
       "    <tr>\n",
       "      <th>16</th>\n",
       "      <td>West_Park_Bridge.html</td>\n",
       "      <td>77</td>\n",
       "      <td>422</td>\n",
       "    </tr>\n",
       "    <tr>\n",
       "      <th>17</th>\n",
       "      <td>West_Park_Bridge.html</td>\n",
       "      <td>92</td>\n",
       "      <td>303</td>\n",
       "    </tr>\n",
       "    <tr>\n",
       "      <th>18</th>\n",
       "      <td>West_Park_Bridge.html</td>\n",
       "      <td>92</td>\n",
       "      <td>553</td>\n",
       "    </tr>\n",
       "    <tr>\n",
       "      <th>19</th>\n",
       "      <td>West_Park_Bridge.html</td>\n",
       "      <td>92</td>\n",
       "      <td>1139</td>\n",
       "    </tr>\n",
       "  </tbody>\n",
       "</table>\n",
       "</div>"
      ],
      "text/plain": [
       "                     File  Line  Index\n",
       "0        Torovirinae.html    89     18\n",
       "1        Torovirinae.html    91    348\n",
       "2        Torovirinae.html    91    370\n",
       "3        Torovirinae.html   140     40\n",
       "4        Torovirinae.html   223    995\n",
       "5        Torovirinae.html   223   1045\n",
       "6        Torovirinae.html   223   1089\n",
       "7        Torovirinae.html   248    124\n",
       "8   West_Park_Bridge.html     6    420\n",
       "9   West_Park_Bridge.html    64    658\n",
       "10  West_Park_Bridge.html    64    681\n",
       "11  West_Park_Bridge.html    66    401\n",
       "12  West_Park_Bridge.html    66    422\n",
       "13  West_Park_Bridge.html    75    590\n",
       "14  West_Park_Bridge.html    75    613\n",
       "15  West_Park_Bridge.html    77    401\n",
       "16  West_Park_Bridge.html    77    422\n",
       "17  West_Park_Bridge.html    92    303\n",
       "18  West_Park_Bridge.html    92    553\n",
       "19  West_Park_Bridge.html    92   1139"
      ]
     },
     "execution_count": 32,
     "metadata": {},
     "output_type": "execute_result"
    }
   ],
   "source": [
    "results.head(20)"
   ]
  }
 ],
 "metadata": {
  "kernelspec": {
   "display_name": "Python 3 (ipykernel)",
   "language": "python",
   "name": "python3"
  },
  "language_info": {
   "codemirror_mode": {
    "name": "ipython",
    "version": 3
   },
   "file_extension": ".py",
   "mimetype": "text/x-python",
   "name": "python",
   "nbconvert_exporter": "python",
   "pygments_lexer": "ipython3",
   "version": "3.9.12"
  }
 },
 "nbformat": 4,
 "nbformat_minor": 5
}
