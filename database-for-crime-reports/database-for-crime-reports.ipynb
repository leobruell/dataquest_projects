{
 "cells": [
  {
   "cell_type": "markdown",
   "id": "c8f6e357",
   "metadata": {},
   "source": [
    "# Making a Database for Crime Reports Using Postgres"
   ]
  },
  {
   "cell_type": "markdown",
   "id": "b8ac53c8",
   "metadata": {},
   "source": [
    "In this project, I use postgres to create a database for crime reports in Boston. "
   ]
  },
  {
   "cell_type": "code",
   "execution_count": 59,
   "id": "875f6c43",
   "metadata": {},
   "outputs": [],
   "source": [
    "import psycopg2"
   ]
  },
  {
   "cell_type": "markdown",
   "id": "768046d7",
   "metadata": {},
   "source": [
    "## Creating the Crime Database"
   ]
  },
  {
   "cell_type": "code",
   "execution_count": 60,
   "id": "37851e29",
   "metadata": {},
   "outputs": [],
   "source": [
    "conn = psycopg2.connect(dbname=\"postgres\", user=\"postgres\", password='', host='localhost')"
   ]
  },
  {
   "cell_type": "code",
   "execution_count": 61,
   "id": "f59d4352",
   "metadata": {},
   "outputs": [],
   "source": [
    "cur = conn.cursor()"
   ]
  },
  {
   "cell_type": "code",
   "execution_count": 62,
   "id": "2aa08378",
   "metadata": {},
   "outputs": [],
   "source": [
    "conn.autocommit = True"
   ]
  },
  {
   "cell_type": "code",
   "execution_count": 63,
   "id": "184b9b47",
   "metadata": {},
   "outputs": [
    {
     "ename": "DuplicateDatabase",
     "evalue": "database \"crime_db\" already exists\n",
     "output_type": "error",
     "traceback": [
      "\u001b[0;31m---------------------------------------------------------------------------\u001b[0m",
      "\u001b[0;31mDuplicateDatabase\u001b[0m                         Traceback (most recent call last)",
      "Input \u001b[0;32mIn [63]\u001b[0m, in \u001b[0;36m<cell line: 1>\u001b[0;34m()\u001b[0m\n\u001b[0;32m----> 1\u001b[0m \u001b[43mcur\u001b[49m\u001b[38;5;241;43m.\u001b[39;49m\u001b[43mexecute\u001b[49m\u001b[43m(\u001b[49m\u001b[38;5;124;43m'\u001b[39;49m\u001b[38;5;124;43mCREATE DATABASE crime_db\u001b[39;49m\u001b[38;5;124;43m'\u001b[39;49m\u001b[43m)\u001b[49m\n",
      "\u001b[0;31mDuplicateDatabase\u001b[0m: database \"crime_db\" already exists\n"
     ]
    }
   ],
   "source": [
    "cur.execute('CREATE DATABASE crime_db')"
   ]
  },
  {
   "cell_type": "code",
   "execution_count": null,
   "id": "f12bf0a3",
   "metadata": {},
   "outputs": [],
   "source": [
    "conn.autocommit = False"
   ]
  },
  {
   "cell_type": "code",
   "execution_count": null,
   "id": "07d148a6",
   "metadata": {},
   "outputs": [],
   "source": [
    "conn.close()"
   ]
  },
  {
   "cell_type": "markdown",
   "id": "53eb92cf",
   "metadata": {},
   "source": [
    "## Creating a Crimes Table"
   ]
  },
  {
   "cell_type": "code",
   "execution_count": 106,
   "id": "67e7b6a7",
   "metadata": {},
   "outputs": [],
   "source": [
    "conn = psycopg2.connect(dbname=\"crime_db\", user=\"postgres\", password='', host='localhost')"
   ]
  },
  {
   "cell_type": "code",
   "execution_count": 107,
   "id": "204f7f09",
   "metadata": {},
   "outputs": [],
   "source": [
    "cur = conn.cursor()"
   ]
  },
  {
   "cell_type": "code",
   "execution_count": 108,
   "id": "999c27d5",
   "metadata": {},
   "outputs": [],
   "source": [
    "cur.execute(\"CREATE SCHEMA crimes;\")"
   ]
  },
  {
   "cell_type": "markdown",
   "id": "0f97bb45",
   "metadata": {},
   "source": [
    "### Choosing Appropriate Data Types for Each Column"
   ]
  },
  {
   "cell_type": "code",
   "execution_count": 109,
   "id": "50c51deb",
   "metadata": {},
   "outputs": [],
   "source": [
    "import csv"
   ]
  },
  {
   "cell_type": "code",
   "execution_count": 110,
   "id": "0942c252",
   "metadata": {},
   "outputs": [],
   "source": [
    "with open('boston.csv') as file:\n",
    "    reader = csv.reader(file)\n",
    "    col_headers = next(reader)\n",
    "    first_row = next(reader)"
   ]
  },
  {
   "cell_type": "code",
   "execution_count": 111,
   "id": "d5573fa9",
   "metadata": {},
   "outputs": [
    {
     "data": {
      "text/plain": [
       "['incident_number',\n",
       " 'offense_code',\n",
       " 'description',\n",
       " 'date',\n",
       " 'day_of_the_week',\n",
       " 'lat',\n",
       " 'long']"
      ]
     },
     "execution_count": 111,
     "metadata": {},
     "output_type": "execute_result"
    }
   ],
   "source": [
    "col_headers"
   ]
  },
  {
   "cell_type": "code",
   "execution_count": 112,
   "id": "840543e3",
   "metadata": {},
   "outputs": [
    {
     "data": {
      "text/plain": [
       "['1',\n",
       " '619',\n",
       " 'LARCENY ALL OTHERS',\n",
       " '2018-09-02',\n",
       " 'Sunday',\n",
       " '42.35779134',\n",
       " '-71.13937053']"
      ]
     },
     "execution_count": 112,
     "metadata": {},
     "output_type": "execute_result"
    }
   ],
   "source": [
    "first_row"
   ]
  },
  {
   "cell_type": "code",
   "execution_count": 113,
   "id": "9b2df859",
   "metadata": {},
   "outputs": [],
   "source": [
    "def get_col_set(csv_name, col_index):\n",
    "    with open(csv_name,'r') as file:\n",
    "        reader = csv.reader(file)\n",
    "        next(reader)\n",
    "        col_list = set()\n",
    "        for row in reader:\n",
    "            col_list.add(row[col_index])\n",
    "        return col_list"
   ]
  },
  {
   "cell_type": "code",
   "execution_count": 114,
   "id": "ebddbcf9",
   "metadata": {},
   "outputs": [
    {
     "data": {
      "text/plain": [
       "{'Friday', 'Monday', 'Saturday', 'Sunday', 'Thursday', 'Tuesday', 'Wednesday'}"
      ]
     },
     "execution_count": 114,
     "metadata": {},
     "output_type": "execute_result"
    }
   ],
   "source": [
    "get_col_set('boston.csv', 4)"
   ]
  },
  {
   "cell_type": "code",
   "execution_count": 115,
   "id": "fd782073",
   "metadata": {},
   "outputs": [],
   "source": [
    "unique_val_dic = {}\n",
    "for key, col in zip(col_headers, range(len(col_headers))):\n",
    "    unique_val_dic[key] = len(get_col_set('boston.csv', col))"
   ]
  },
  {
   "cell_type": "code",
   "execution_count": 116,
   "id": "a4098765",
   "metadata": {},
   "outputs": [
    {
     "data": {
      "text/plain": [
       "{'incident_number': 298329,\n",
       " 'offense_code': 219,\n",
       " 'description': 239,\n",
       " 'date': 1177,\n",
       " 'day_of_the_week': 7,\n",
       " 'lat': 18177,\n",
       " 'long': 18177}"
      ]
     },
     "execution_count": 116,
     "metadata": {},
     "output_type": "execute_result"
    }
   ],
   "source": [
    "unique_val_dic"
   ]
  },
  {
   "cell_type": "code",
   "execution_count": 117,
   "id": "6b335a5f",
   "metadata": {},
   "outputs": [],
   "source": [
    "description_max_length = 0 \n",
    "for d in get_col_set('boston.csv', 2):\n",
    "    if len(d) > description_max_length:\n",
    "        description_max_length = len(d)"
   ]
  },
  {
   "cell_type": "code",
   "execution_count": 118,
   "id": "6517bb3e",
   "metadata": {},
   "outputs": [
    {
     "data": {
      "text/plain": [
       "58"
      ]
     },
     "execution_count": 118,
     "metadata": {},
     "output_type": "execute_result"
    }
   ],
   "source": [
    "description_max_length"
   ]
  },
  {
   "cell_type": "code",
   "execution_count": 119,
   "id": "69c9406b",
   "metadata": {},
   "outputs": [],
   "source": [
    "cur.execute(\"CREATE TYPE week_enum AS ENUM ('Friday', 'Monday', 'Saturday', 'Sunday', 'Thursday', 'Tuesday', 'Wednesday');\")"
   ]
  },
  {
   "cell_type": "code",
   "execution_count": 120,
   "id": "c4e76287",
   "metadata": {},
   "outputs": [],
   "source": [
    "cur.execute('''CREATE TABLE crimes.boston_crimes (\n",
    "incident_number INTEGER PRIMARY KEY,\n",
    "offense_code INTEGER, \n",
    "description VARCHAR(100),\n",
    "date DATE,\n",
    "day_of_week week_enum,\n",
    "lat DECIMAL,\n",
    "long DECIMAL \n",
    "\n",
    ");''')"
   ]
  },
  {
   "cell_type": "markdown",
   "id": "fd3e9bff",
   "metadata": {},
   "source": [
    "Above, we used an enumerated data type for the day of the week column because there are only seven possible options. We also used a varchar data type with a 100 character maximum for the description column, as all descriptions in the data were well under 100 characters. "
   ]
  },
  {
   "cell_type": "markdown",
   "id": "867d414d",
   "metadata": {},
   "source": [
    "## Loading the Data into the Crimes Table"
   ]
  },
  {
   "cell_type": "code",
   "execution_count": 121,
   "id": "8922e4fe",
   "metadata": {},
   "outputs": [],
   "source": [
    "with open('boston.csv') as file:\n",
    "    cur.copy_expert(\"COPY crimes.boston_crimes FROM STDIN WITH CSV HEADER;\", file)"
   ]
  },
  {
   "cell_type": "code",
   "execution_count": 122,
   "id": "399c80d4",
   "metadata": {},
   "outputs": [],
   "source": [
    "cur.execute(\"SELECT * FROM crimes.boston_crimes;\")\n"
   ]
  },
  {
   "cell_type": "code",
   "execution_count": 123,
   "id": "59d96bd5",
   "metadata": {},
   "outputs": [
    {
     "name": "stdout",
     "output_type": "stream",
     "text": [
      "298329\n"
     ]
    }
   ],
   "source": [
    "print(len(cur.fetchall()))"
   ]
  },
  {
   "cell_type": "markdown",
   "id": "16d34608",
   "metadata": {},
   "source": [
    "Above, we see that all the rows from the csv file have been added to the boston_crimes table. "
   ]
  },
  {
   "cell_type": "markdown",
   "id": "d6cd6523",
   "metadata": {},
   "source": [
    "## Creating Appropriate Users and Permissions"
   ]
  },
  {
   "cell_type": "code",
   "execution_count": 124,
   "id": "0b44ef25",
   "metadata": {},
   "outputs": [],
   "source": [
    "cur.execute(\"REVOKE ALL ON SCHEMA public FROM public;\")"
   ]
  },
  {
   "cell_type": "code",
   "execution_count": 125,
   "id": "a8ca8bfa",
   "metadata": {},
   "outputs": [],
   "source": [
    "cur.execute(\"REVOKE ALL ON DATABASE crime_db FROM public;\")"
   ]
  },
  {
   "cell_type": "code",
   "execution_count": 126,
   "id": "64448783",
   "metadata": {},
   "outputs": [],
   "source": [
    "cur.execute(\"CREATE GROUP readonly NOLOGIN;\")\n",
    "cur.execute(\"CREATE GROUP readwrite NOLOGIN;\")"
   ]
  },
  {
   "cell_type": "code",
   "execution_count": 127,
   "id": "60fe080a",
   "metadata": {},
   "outputs": [],
   "source": [
    "cur.execute(\"GRANT CONNECT ON DATABASE crime_db TO readonly;\")\n",
    "cur.execute(\"GRANT CONNECT ON DATABASE crime_db TO readwrite;\")"
   ]
  },
  {
   "cell_type": "code",
   "execution_count": 128,
   "id": "1bd6fffd",
   "metadata": {},
   "outputs": [],
   "source": [
    "cur.execute(\"GRANT USAGE ON SCHEMA crimes TO readonly;\")\n",
    "cur.execute(\"GRANT USAGE ON SCHEMA crimes TO readwrite;\")"
   ]
  },
  {
   "cell_type": "code",
   "execution_count": 129,
   "id": "9122e167",
   "metadata": {},
   "outputs": [],
   "source": [
    "cur.execute(\"GRANT SELECT ON ALL TABLES IN SCHEMA crimes TO readonly;\")\n",
    "cur.execute(\"GRANT SELECT, INSERT, UPDATE, DELETE ON ALL TABLES IN SCHEMA crimes TO readwrite;\")"
   ]
  },
  {
   "cell_type": "code",
   "execution_count": 130,
   "id": "d767e6dc",
   "metadata": {},
   "outputs": [],
   "source": [
    "cur.execute(\"CREATE USER data_analyst WITH PASSWORD 'secret1';\")\n",
    "cur.execute(\"GRANT readonly TO data_analyst;\")"
   ]
  },
  {
   "cell_type": "code",
   "execution_count": 131,
   "id": "6045d508",
   "metadata": {},
   "outputs": [],
   "source": [
    "cur.execute(\"CREATE USER data_scientist WITH PASSWORD 'secret2';\")\n",
    "cur.execute(\"GRANT readwrite TO data_scientist;\")"
   ]
  },
  {
   "cell_type": "markdown",
   "id": "2d2624bb",
   "metadata": {},
   "source": [
    "## Testing Database Configuration"
   ]
  },
  {
   "cell_type": "code",
   "execution_count": 137,
   "id": "bf5527ca",
   "metadata": {},
   "outputs": [
    {
     "data": {
      "text/plain": [
       "[('postgres', True, True, True, True),\n",
       " ('readonly', False, False, False, False),\n",
       " ('readwrite', False, False, False, False),\n",
       " ('data_analyst', False, False, False, True),\n",
       " ('data_scientist', False, False, False, True)]"
      ]
     },
     "execution_count": 137,
     "metadata": {},
     "output_type": "execute_result"
    }
   ],
   "source": [
    "cur.execute('''SELECT rolname, rolsuper, rolcreaterole, rolcreatedb, rolcanlogin \n",
    "FROM pg_roles \n",
    "WHERE rolname IN ('readonly', 'readwrite', 'data_analyst', 'data_scientist', 'postgres');\n",
    "''')\n",
    "cur.fetchall()"
   ]
  },
  {
   "cell_type": "code",
   "execution_count": 139,
   "id": "20ab63f1",
   "metadata": {},
   "outputs": [
    {
     "data": {
      "text/plain": [
       "[('readonly', 'SELECT'),\n",
       " ('readwrite', 'INSERT'),\n",
       " ('readwrite', 'SELECT'),\n",
       " ('readwrite', 'UPDATE'),\n",
       " ('readwrite', 'DELETE')]"
      ]
     },
     "execution_count": 139,
     "metadata": {},
     "output_type": "execute_result"
    }
   ],
   "source": [
    "cur.execute(\"\"\"\n",
    "    SELECT grantee, privilege_type\n",
    "    FROM information_schema.table_privileges\n",
    "    WHERE grantee IN ('readonly', 'readwrite');\n",
    "\"\"\")\n",
    "cur.fetchall()"
   ]
  },
  {
   "cell_type": "code",
   "execution_count": 140,
   "id": "eea98b7a",
   "metadata": {},
   "outputs": [],
   "source": [
    "conn.commit()"
   ]
  },
  {
   "cell_type": "code",
   "execution_count": 141,
   "id": "dfc86a85",
   "metadata": {},
   "outputs": [],
   "source": [
    "conn.close()"
   ]
  }
 ],
 "metadata": {
  "kernelspec": {
   "display_name": "Python 3 (ipykernel)",
   "language": "python",
   "name": "python3"
  },
  "language_info": {
   "codemirror_mode": {
    "name": "ipython",
    "version": 3
   },
   "file_extension": ".py",
   "mimetype": "text/x-python",
   "name": "python",
   "nbconvert_exporter": "python",
   "pygments_lexer": "ipython3",
   "version": "3.9.12"
  }
 },
 "nbformat": 4,
 "nbformat_minor": 5
}
