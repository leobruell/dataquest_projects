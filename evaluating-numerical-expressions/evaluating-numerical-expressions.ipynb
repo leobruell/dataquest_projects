{
 "cells": [
  {
   "cell_type": "markdown",
   "id": "279b1dec",
   "metadata": {},
   "source": [
    "# Dataquest Project: Evaluating Numerical Expressions"
   ]
  },
  {
   "cell_type": "markdown",
   "id": "8cd4c280",
   "metadata": {},
   "source": [
    "The goal of this guided project is to use stacks to create an algorithm to evaluate numerical expressions. "
   ]
  },
  {
   "cell_type": "markdown",
   "id": "6c8e9580",
   "metadata": {},
   "source": [
    "## Creating the Stack Class"
   ]
  },
  {
   "cell_type": "code",
   "execution_count": 6,
   "id": "a31588cf",
   "metadata": {},
   "outputs": [],
   "source": [
    "from linked_list import LinkedList"
   ]
  },
  {
   "cell_type": "code",
   "execution_count": 7,
   "id": "93d5e4ac",
   "metadata": {},
   "outputs": [],
   "source": [
    "class Stack(LinkedList):\n",
    "    \n",
    "    def push(self, data):\n",
    "        return self.append(data)\n",
    "    \n",
    "    def peek(self):\n",
    "        return self.tail.data\n",
    "    \n",
    "    def pop(self):\n",
    "        ret = self.tail.data\n",
    "        if self.length == 1:\n",
    "            self.head = self.tail = None\n",
    "        else:\n",
    "            self.tail = self.tail.prev\n",
    "            self.tail.next = None\n",
    "        self.length -= 1\n",
    "        return ret   "
   ]
  },
  {
   "cell_type": "markdown",
   "id": "c5361822",
   "metadata": {},
   "source": [
    "## Creating an Algorithm for Postfix Expressions"
   ]
  },
  {
   "cell_type": "code",
   "execution_count": 16,
   "id": "e05775d4",
   "metadata": {},
   "outputs": [],
   "source": [
    "import operator\n",
    "ops = { \"+\": operator.add, \"-\": operator.sub, '*': operator.mul, '/': operator.truediv, '**': operator.pow } "
   ]
  },
  {
   "cell_type": "code",
   "execution_count": 24,
   "id": "e24fa52e",
   "metadata": {},
   "outputs": [],
   "source": [
    "def evaluate_postfix(expression):\n",
    "    token_list = expression.split()\n",
    "    my_stack = Stack()\n",
    "    for token in token_list:\n",
    "        if token in ['+','-','/','*','**']:\n",
    "            top = my_stack.pop()\n",
    "            second_to_top = my_stack.pop()\n",
    "            result = ops[token](second_to_top, top)\n",
    "            my_stack.push(result)\n",
    "        else:\n",
    "            my_stack.push(float(token))\n",
    "    return my_stack.pop()"
   ]
  },
  {
   "cell_type": "code",
   "execution_count": 25,
   "id": "c624c6c3",
   "metadata": {},
   "outputs": [],
   "source": [
    "expressions = [\n",
    "    \"4 6 -\",\n",
    "    \"4 1 2 9 3 / * + 5 - *\",\n",
    "    \"1 2 + 3 -\",\n",
    "    \"1 2 - 3 +\",\n",
    "    \"10 3 5 * 16 4 - / +\",\n",
    "    \"5 3 4 2 - ** *\",\n",
    "    \"12 2 4 + / 21 *\",\n",
    "    \"1 1 + 2 **\",\n",
    "    \"1 1 2 ** +\"\n",
    "]"
   ]
  },
  {
   "cell_type": "code",
   "execution_count": 26,
   "id": "014b05e8",
   "metadata": {},
   "outputs": [],
   "source": [
    "test_results = []\n",
    "for string in expressions:\n",
    "    result = evaluate_postfix(string)\n",
    "    test_results.append(result)"
   ]
  },
  {
   "cell_type": "code",
   "execution_count": 27,
   "id": "dea33f95",
   "metadata": {},
   "outputs": [
    {
     "data": {
      "text/plain": [
       "[-2.0, 8.0, 0.0, 2.0, 11.25, 45.0, 42.0, 4.0, 2.0]"
      ]
     },
     "execution_count": 27,
     "metadata": {},
     "output_type": "execute_result"
    }
   ],
   "source": [
    "test_results"
   ]
  },
  {
   "cell_type": "markdown",
   "id": "5db85cbc",
   "metadata": {},
   "source": [
    "## Creating an Algorithm for Infix Expressions"
   ]
  },
  {
   "cell_type": "code",
   "execution_count": 36,
   "id": "a6ab38d9",
   "metadata": {},
   "outputs": [],
   "source": [
    "precedence = {'+': 1, '-': 1, '*': 2, '/': 2, '**': 3}"
   ]
  },
  {
   "cell_type": "code",
   "execution_count": 37,
   "id": "172806a0",
   "metadata": {},
   "outputs": [
    {
     "data": {
      "text/plain": [
       "False"
      ]
     },
     "execution_count": 37,
     "metadata": {},
     "output_type": "execute_result"
    }
   ],
   "source": [
    "precedence['+'] > precedence['*']"
   ]
  },
  {
   "cell_type": "code",
   "execution_count": 39,
   "id": "3974dba1",
   "metadata": {},
   "outputs": [],
   "source": [
    "def process_open_p(stack):\n",
    "    stack.push('(')\n",
    "    \n",
    "def process_close_p(stack, postfix):\n",
    "    while stack.peek() != '(':\n",
    "        postfix.append(stack.pop())\n",
    "    stack.pop() #Removes the open parenthesis from the top of the stack\n",
    "\n",
    "def process_operator(stack, postfix, operator):\n",
    "    while len(stack) > 0 and stack.peek() in precedence and precedence[stack.peek()] >= precedence[operator]:\n",
    "        postfix.append(stack.pop())\n",
    "    stack.push(operator)\n",
    "    \n",
    "def process_number(postfix, number):\n",
    "    postfix.append(number)"
   ]
  },
  {
   "cell_type": "code",
   "execution_count": 51,
   "id": "6955f527",
   "metadata": {},
   "outputs": [],
   "source": [
    "def infix_to_postfix(expression):\n",
    "    tokens = expression.split()\n",
    "    stack = Stack()\n",
    "    postfix = []\n",
    "    for token in tokens:\n",
    "        if token == '(':\n",
    "            process_open_p(stack)\n",
    "        elif token == ')':\n",
    "            process_close_p(stack, postfix)\n",
    "        elif token in ['**', '*', '+', '-', '/']:\n",
    "            process_operator(stack, postfix, token)\n",
    "        else: \n",
    "            process_number(postfix, token)\n",
    "    while stack.length != 0:\n",
    "        postfix.append(stack.pop())\n",
    "    return ' '.join(postfix)"
   ]
  },
  {
   "cell_type": "code",
   "execution_count": 57,
   "id": "391bdaad",
   "metadata": {},
   "outputs": [
    {
     "data": {
      "text/plain": [
       "'2 4 + 1 3 * -'"
      ]
     },
     "execution_count": 57,
     "metadata": {},
     "output_type": "execute_result"
    }
   ],
   "source": [
    "infix_to_postfix('2 + 4 - ( 1 * 3 )')"
   ]
  },
  {
   "cell_type": "code",
   "execution_count": 53,
   "id": "5feb722a",
   "metadata": {},
   "outputs": [],
   "source": [
    "def evaluate(expression):\n",
    "    postfix_expression = infix_to_postfix(expression)\n",
    "    return evaluate_postfix(postfix_expression)"
   ]
  },
  {
   "cell_type": "code",
   "execution_count": 54,
   "id": "adedc058",
   "metadata": {},
   "outputs": [],
   "source": [
    "test_expressions = [\n",
    "    \"1 + 1\",\n",
    "    \"1 * ( 2 - ( 1 + 1 ) )\",\n",
    "    \"4 * ( 1 + 2 * ( 9 / 3 ) - 5 )\",\n",
    "    \"10 + 3 * 5 / ( 16 - 4 * 1 )\",\n",
    "    \"2 * 2 * 2 * 2 * 2 * 2 * 2 * 2\",\n",
    "    \"2 ** 2 ** 2 ** 2 ** 2\",\n",
    "    \"( 1 - 2 ) / ( 3 - 5 )\",\n",
    "    \"9 / 8 * 8\",\n",
    "    \"64 / ( 8 * 8 )\",\n",
    "]"
   ]
  },
  {
   "cell_type": "code",
   "execution_count": 55,
   "id": "a9605eff",
   "metadata": {},
   "outputs": [],
   "source": [
    "test_results = []\n",
    "for string in test_expressions:\n",
    "    test_results.append(evaluate(string))"
   ]
  },
  {
   "cell_type": "code",
   "execution_count": 56,
   "id": "9405bc01",
   "metadata": {},
   "outputs": [
    {
     "data": {
      "text/plain": [
       "[2.0, 0.0, 8.0, 11.25, 256.0, 65536.0, 0.5, 9.0, 1.0]"
      ]
     },
     "execution_count": 56,
     "metadata": {},
     "output_type": "execute_result"
    }
   ],
   "source": [
    "test_results"
   ]
  }
 ],
 "metadata": {
  "kernelspec": {
   "display_name": "Python 3 (ipykernel)",
   "language": "python",
   "name": "python3"
  },
  "language_info": {
   "codemirror_mode": {
    "name": "ipython",
    "version": 3
   },
   "file_extension": ".py",
   "mimetype": "text/x-python",
   "name": "python",
   "nbconvert_exporter": "python",
   "pygments_lexer": "ipython3",
   "version": "3.9.12"
  }
 },
 "nbformat": 4,
 "nbformat_minor": 5
}
