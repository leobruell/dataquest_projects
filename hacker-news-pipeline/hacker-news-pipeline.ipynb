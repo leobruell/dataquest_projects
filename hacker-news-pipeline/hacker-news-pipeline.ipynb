{
 "cells": [
  {
   "cell_type": "markdown",
   "id": "fe5c561f",
   "metadata": {},
   "source": [
    "# Dataquest Project: Hacker News Pipeline\n",
    "The goal of this project is to apply the data pipeline we have built in the lesson portion of the unit to a real data project. We will use JSON data from a Hacker News API. "
   ]
  },
  {
   "cell_type": "code",
   "execution_count": 178,
   "id": "6cf5c304",
   "metadata": {},
   "outputs": [],
   "source": [
    "from pipeline import Pipeline\n",
    "from pipeline import build_csv\n",
    "import json\n",
    "import io\n",
    "import csv\n",
    "import string\n",
    "from stop_words import stop_words\n",
    "from datetime import datetime"
   ]
  },
  {
   "cell_type": "code",
   "execution_count": 179,
   "id": "a47a3fc5",
   "metadata": {},
   "outputs": [],
   "source": [
    "pipeline = Pipeline()"
   ]
  },
  {
   "cell_type": "code",
   "execution_count": 180,
   "id": "dba3f84b",
   "metadata": {},
   "outputs": [],
   "source": [
    "@pipeline.task()\n",
    "def file_to_json():\n",
    "    with open('hn_stories_2014.json', 'r') as file:\n",
    "        data = json.load(file)\n",
    "        stories = data['stories']\n",
    "    return stories"
   ]
  },
  {
   "cell_type": "code",
   "execution_count": 184,
   "id": "212404d5",
   "metadata": {},
   "outputs": [],
   "source": [
    "@pipeline.task(depends_on=filter_stories)\n",
    "def json_to_csv(filtered_stories):\n",
    "    lines = []\n",
    "    for story in filtered_stories:\n",
    "        lines.append((story['objectID'], \n",
    "                     datetime.strptime(story['created_at'], \"%Y-%m-%dT%H:%M:%SZ\"), \n",
    "                     story['url'], \n",
    "                     story['points'], \n",
    "                     story['title']))\n",
    "    return build_csv(lines, header=['objectID', 'created_at', 'url', 'points', 'title'], file=io.StringIO())"
   ]
  },
  {
   "cell_type": "code",
   "execution_count": 186,
   "id": "46ea1dfc",
   "metadata": {},
   "outputs": [],
   "source": [
    "@pipeline.task(depends_on=json_to_csv)\n",
    "def extract_titles(csv_file):\n",
    "    reader = csv.reader(csv_file)\n",
    "    header = next(reader)\n",
    "    header_position = header.index('title')\n",
    "    return (row[header_position] for row in reader)"
   ]
  },
  {
   "cell_type": "code",
   "execution_count": 189,
   "id": "5d3b2c32",
   "metadata": {},
   "outputs": [],
   "source": [
    "@pipeline.task(depends_on=extract_titles)\n",
    "def clean_titles(titles):\n",
    "    for title in titles:\n",
    "        title = title.lower()\n",
    "        title = title.translate(str.maketrans('','', string.punctuation))\n",
    "        yield title"
   ]
  },
  {
   "cell_type": "code",
   "execution_count": 192,
   "id": "6924d6bf",
   "metadata": {},
   "outputs": [],
   "source": [
    "@pipeline.task(depends_on=clean_titles)\n",
    "def build_keyword_dictionary(titles):\n",
    "    return_dict = {}\n",
    "    for title in titles:\n",
    "        title = title.split()\n",
    "        for word in title:\n",
    "            if word not in stop_words:\n",
    "                if word in return_dict:\n",
    "                    return_dict[word] += 1\n",
    "                else:\n",
    "                    return_dict[word] = 1\n",
    "    return return_dict            "
   ]
  },
  {
   "cell_type": "code",
   "execution_count": 193,
   "id": "c4a6f27b",
   "metadata": {},
   "outputs": [],
   "source": [
    "@pipeline.task(depends_on=build_keyword_dictionary)\n",
    "def get_top_hundred_words(word_dict):\n",
    "    word_tup = [(key, value) for key, value in word_dict.items()]\n",
    "    word_tup_sort = sorted(word_tup, key=lambda x: x[1], reverse=True)\n",
    "    return word_tup_sort[:100]"
   ]
  },
  {
   "cell_type": "code",
   "execution_count": 194,
   "id": "f08cae89",
   "metadata": {},
   "outputs": [],
   "source": [
    "ran = pipeline.run()"
   ]
  },
  {
   "cell_type": "code",
   "execution_count": 195,
   "id": "72d29079",
   "metadata": {},
   "outputs": [
    {
     "data": {
      "text/plain": [
       "[('new', 185),\n",
       " ('google', 167),\n",
       " ('bitcoin', 101),\n",
       " ('open', 92),\n",
       " ('programming', 90),\n",
       " ('web', 88),\n",
       " ('data', 85),\n",
       " ('video', 79),\n",
       " ('python', 76),\n",
       " ('code', 72),\n",
       " ('facebook', 71),\n",
       " ('released', 71),\n",
       " ('using', 70),\n",
       " ('2013', 65),\n",
       " ('javascript', 65),\n",
       " ('free', 64),\n",
       " ('source', 64),\n",
       " ('game', 63),\n",
       " ('internet', 62),\n",
       " ('microsoft', 59),\n",
       " ('c', 59),\n",
       " ('linux', 58),\n",
       " ('app', 57),\n",
       " ('pdf', 55),\n",
       " ('work', 54),\n",
       " ('language', 54),\n",
       " ('software', 52),\n",
       " ('2014', 52),\n",
       " ('startup', 51),\n",
       " ('apple', 50),\n",
       " ('use', 50),\n",
       " ('make', 50),\n",
       " ('time', 48),\n",
       " ('yc', 48),\n",
       " ('security', 48),\n",
       " ('nsa', 45),\n",
       " ('github', 45),\n",
       " ('windows', 44),\n",
       " ('1', 41),\n",
       " ('world', 41),\n",
       " ('way', 41),\n",
       " ('like', 41),\n",
       " ('project', 40),\n",
       " ('computer', 40),\n",
       " ('heartbleed', 40),\n",
       " ('git', 37),\n",
       " ('users', 37),\n",
       " ('dont', 37),\n",
       " ('design', 37),\n",
       " ('ios', 37),\n",
       " ('developer', 36),\n",
       " ('os', 36),\n",
       " ('twitter', 36),\n",
       " ('ceo', 36),\n",
       " ('vs', 36),\n",
       " ('life', 36),\n",
       " ('big', 35),\n",
       " ('day', 35),\n",
       " ('android', 34),\n",
       " ('online', 34),\n",
       " ('years', 33),\n",
       " ('simple', 33),\n",
       " ('court', 33),\n",
       " ('guide', 32),\n",
       " ('learning', 32),\n",
       " ('mt', 32),\n",
       " ('api', 32),\n",
       " ('says', 32),\n",
       " ('apps', 32),\n",
       " ('browser', 32),\n",
       " ('server', 31),\n",
       " ('firefox', 31),\n",
       " ('fast', 31),\n",
       " ('amazon', 31),\n",
       " ('gox', 31),\n",
       " ('problem', 31),\n",
       " ('mozilla', 31),\n",
       " ('engine', 31),\n",
       " ('site', 31),\n",
       " ('introducing', 30),\n",
       " ('year', 30),\n",
       " ('support', 29),\n",
       " ('stop', 29),\n",
       " ('built', 29),\n",
       " ('better', 29),\n",
       " ('million', 29),\n",
       " ('people', 29),\n",
       " ('text', 29),\n",
       " ('3', 28),\n",
       " ('does', 28),\n",
       " ('tech', 28),\n",
       " ('development', 28),\n",
       " ('billion', 27),\n",
       " ('developers', 27),\n",
       " ('just', 27),\n",
       " ('library', 27),\n",
       " ('did', 27),\n",
       " ('website', 27),\n",
       " ('money', 27),\n",
       " ('inside', 27)]"
      ]
     },
     "execution_count": 195,
     "metadata": {},
     "output_type": "execute_result"
    }
   ],
   "source": [
    "ran[get_top_hundred_words]"
   ]
  }
 ],
 "metadata": {
  "kernelspec": {
   "display_name": "Python 3 (ipykernel)",
   "language": "python",
   "name": "python3"
  },
  "language_info": {
   "codemirror_mode": {
    "name": "ipython",
    "version": 3
   },
   "file_extension": ".py",
   "mimetype": "text/x-python",
   "name": "python",
   "nbconvert_exporter": "python",
   "pygments_lexer": "ipython3",
   "version": "3.9.12"
  }
 },
 "nbformat": 4,
 "nbformat_minor": 5
}
