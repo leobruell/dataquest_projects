{
 "cells": [
  {
   "cell_type": "markdown",
   "id": "3824c9f5",
   "metadata": {},
   "source": [
    "# Implementing a Key-Value Database"
   ]
  },
  {
   "cell_type": "markdown",
   "id": "bb3ec511",
   "metadata": {},
   "source": [
    "The goal of this project is to implement a key-value store class called KVStore using a b-tree. The BTree class was created during the lessons in the unit on tree data structures, and can be found in the btree.py file. "
   ]
  },
  {
   "cell_type": "markdown",
   "id": "f88523b1",
   "metadata": {},
   "source": [
    "## Creating the Init and Add Methods"
   ]
  },
  {
   "cell_type": "code",
   "execution_count": 45,
   "id": "d8da6cf8",
   "metadata": {},
   "outputs": [],
   "source": [
    "from btree import BTree"
   ]
  },
  {
   "cell_type": "code",
   "execution_count": 46,
   "id": "10389938",
   "metadata": {},
   "outputs": [],
   "source": [
    "class KVStore(BTree):\n",
    "    def __init__(self):\n",
    "        super().__init__(split_threshold=2)\n",
    "        \n",
    "    def add(self, key, value):\n",
    "        if self.contains(key):\n",
    "            node = self._find_node(self.root, key)\n",
    "            for index, k in enumerate(node.keys):\n",
    "                if k == key:\n",
    "                    node.values[index] = value\n",
    "        else:\n",
    "            super().add(key, value)"
   ]
  },
  {
   "cell_type": "markdown",
   "id": "256f73bb",
   "metadata": {},
   "source": [
    "### Testing the Init and Add Methods"
   ]
  },
  {
   "cell_type": "code",
   "execution_count": 47,
   "id": "9ca98369",
   "metadata": {},
   "outputs": [
    {
     "data": {
      "text/plain": [
       "'2'"
      ]
     },
     "execution_count": 47,
     "metadata": {},
     "output_type": "execute_result"
    }
   ],
   "source": [
    "test_store = KVStore()\n",
    "assert test_store.split_threshold == 2, \"The split is not equal to 2.\"\n",
    "test_store.add(1, '1')\n",
    "test_store.add(1, '2')\n",
    "assert test_store.get_value(1) == '2', 'The add method did not implement correct.'\n",
    "test_store.get_value(1)"
   ]
  },
  {
   "cell_type": "markdown",
   "id": "7276096d",
   "metadata": {},
   "source": [
    "## Implementing the Item Getter and Setter"
   ]
  },
  {
   "cell_type": "code",
   "execution_count": 57,
   "id": "db0c975e",
   "metadata": {},
   "outputs": [],
   "source": [
    "class KVStore(BTree):\n",
    "    def __init__(self):\n",
    "        super().__init__(split_threshold=2)\n",
    "        \n",
    "    def add(self, key, value):\n",
    "        if self.contains(key):\n",
    "            node = self._find_node(self.root, key)\n",
    "            for index, k in enumerate(node.keys):\n",
    "                if k == key:\n",
    "                    node.values[index] = value\n",
    "        else:\n",
    "            super().add(key, value)\n",
    "    \n",
    "    def __setitem__(self, key, value):\n",
    "        self.add(key, value)\n",
    "    \n",
    "    def __getitem__(self, key):\n",
    "        return self.get_value(key)\n",
    "    "
   ]
  },
  {
   "cell_type": "markdown",
   "id": "bc1b6c39",
   "metadata": {},
   "source": [
    "### Testing the Getter and Setter Methods"
   ]
  },
  {
   "cell_type": "code",
   "execution_count": 62,
   "id": "897e3068",
   "metadata": {},
   "outputs": [
    {
     "data": {
      "text/plain": [
       "1"
      ]
     },
     "execution_count": 62,
     "metadata": {},
     "output_type": "execute_result"
    }
   ],
   "source": [
    "kv = KVStore()\n",
    "kv[1] = 1\n",
    "kv[1]"
   ]
  },
  {
   "cell_type": "code",
   "execution_count": 63,
   "id": "9f17187e",
   "metadata": {},
   "outputs": [
    {
     "data": {
      "text/plain": [
       "2"
      ]
     },
     "execution_count": 63,
     "metadata": {},
     "output_type": "execute_result"
    }
   ],
   "source": [
    "kv[1] = 2\n",
    "kv[1]"
   ]
  },
  {
   "cell_type": "markdown",
   "id": "cfaab09f",
   "metadata": {},
   "source": [
    "## Enhancing the Contains Method"
   ]
  },
  {
   "cell_type": "code",
   "execution_count": 64,
   "id": "941dffc6",
   "metadata": {},
   "outputs": [],
   "source": [
    "class KVStore(BTree):\n",
    "    def __init__(self):\n",
    "        super().__init__(split_threshold=2)\n",
    "        \n",
    "    def add(self, key, value):\n",
    "        if self.contains(key):\n",
    "            node = self._find_node(self.root, key)\n",
    "            for index, k in enumerate(node.keys):\n",
    "                if k == key:\n",
    "                    node.values[index] = value\n",
    "        else:\n",
    "            super().add(key, value)\n",
    "    \n",
    "    def __setitem__(self, key, value):\n",
    "        self.add(key, value)\n",
    "    \n",
    "    def __getitem__(self, key):\n",
    "        return self.get_value(key)\n",
    "    \n",
    "    def __contains__(self, key):\n",
    "        return self.contains(key)"
   ]
  },
  {
   "cell_type": "markdown",
   "id": "5bbc1e09",
   "metadata": {},
   "source": [
    "### Testing the Contains Method"
   ]
  },
  {
   "cell_type": "code",
   "execution_count": 67,
   "id": "a7177c36",
   "metadata": {},
   "outputs": [
    {
     "data": {
      "text/plain": [
       "True"
      ]
     },
     "execution_count": 67,
     "metadata": {},
     "output_type": "execute_result"
    }
   ],
   "source": [
    "kv = KVStore()\n",
    "kv[1] = 1\n",
    "1 in kv"
   ]
  },
  {
   "cell_type": "code",
   "execution_count": 68,
   "id": "27c0e43f",
   "metadata": {},
   "outputs": [
    {
     "data": {
      "text/plain": [
       "False"
      ]
     },
     "execution_count": 68,
     "metadata": {},
     "output_type": "execute_result"
    }
   ],
   "source": [
    "2 in kv"
   ]
  },
  {
   "cell_type": "markdown",
   "id": "b9248c5f",
   "metadata": {},
   "source": [
    "## Creating Range Query Methods"
   ]
  },
  {
   "cell_type": "code",
   "execution_count": 73,
   "id": "c60be21c",
   "metadata": {},
   "outputs": [],
   "source": [
    "class KVStore(BTree):\n",
    "    def __init__(self):\n",
    "        super().__init__(split_threshold=2)\n",
    "        \n",
    "    def add(self, key, value):\n",
    "        if self.contains(key):\n",
    "            node = self._find_node(self.root, key)\n",
    "            for index, k in enumerate(node.keys):\n",
    "                if k == key:\n",
    "                    node.values[index] = value\n",
    "        else:\n",
    "            super().add(key, value)\n",
    "    \n",
    "    def __setitem__(self, key, value):\n",
    "        self.add(key, value)\n",
    "    \n",
    "    def __getitem__(self, key):\n",
    "        return self.get_value(key)\n",
    "    \n",
    "    def __contains__(self, key):\n",
    "        return self.contains(key)\n",
    "    \n",
    "    def _range_query(self, range_start, range_end, current_node, min_key, max_key):\n",
    "        if range_start > max_key or range_end < min_key:\n",
    "            return []\n",
    "        results = []\n",
    "        for i, key in enumerate(current_node.keys):\n",
    "            if range_start <= key and key <= range_end:\n",
    "                results.append(current_node.values[i])\n",
    "        if not current_node.is_leaf():\n",
    "            for i, child in enumerate(current_node.children):\n",
    "                new_min_key = current_node.keys[i - 1] if i > 0 else min_key\n",
    "                new_max_key = current_node.keys[i] if i < len(current_node) else max_key\n",
    "                results += self._range_query(range_start, range_end, child, new_min_key, new_max_key)\n",
    "        return results \n",
    "\n",
    "    def range_query(self, range_start, range_end):\n",
    "        return self._range_query(range_start, range_end, self.root, float('-inf'), float('inf'))"
   ]
  },
  {
   "cell_type": "markdown",
   "id": "7f825624",
   "metadata": {},
   "source": [
    "### Testing the Range Query Method"
   ]
  },
  {
   "cell_type": "code",
   "execution_count": null,
   "id": "05f4aa84",
   "metadata": {},
   "outputs": [],
   "source": [
    "class DictKVStore(dict):\n",
    "\n",
    "    def range_query(self, range_start, range_end):\n",
    "        result = []\n",
    "        for key in self.keys():\n",
    "            if range_start <= key and key <= range_end:\n",
    "                result.append(self[key])\n",
    "        return result"
   ]
  },
  {
   "cell_type": "code",
   "execution_count": 84,
   "id": "226ba994",
   "metadata": {},
   "outputs": [],
   "source": [
    "kv = KVStore()\n",
    "dic_store = DictKVStore()\n",
    "for i in range(100):\n",
    "    kv[i] = i\n",
    "    dic_store[i] = i"
   ]
  },
  {
   "cell_type": "code",
   "execution_count": 83,
   "id": "2c12103e",
   "metadata": {},
   "outputs": [
    {
     "data": {
      "text/plain": [
       "[3, 5, 4]"
      ]
     },
     "execution_count": 83,
     "metadata": {},
     "output_type": "execute_result"
    }
   ],
   "source": [
    "kv.range_query(3, 5)"
   ]
  },
  {
   "cell_type": "code",
   "execution_count": 85,
   "id": "4b03ae7f",
   "metadata": {},
   "outputs": [
    {
     "data": {
      "text/plain": [
       "[3, 4, 5]"
      ]
     },
     "execution_count": 85,
     "metadata": {},
     "output_type": "execute_result"
    }
   ],
   "source": [
    "dic_store.range_query(3, 5)"
   ]
  },
  {
   "cell_type": "code",
   "execution_count": 91,
   "id": "a4bca57d",
   "metadata": {},
   "outputs": [],
   "source": [
    "for range_start, range_end in [(1, 3), (4, 6), (1, 10), (5, 5)]:\n",
    "    dict_res = sorted(dic_store.range_query(range_start, range_end))\n",
    "    our_res = sorted(kv.range_query(range_start, range_end))\n",
    "    assert dict_res == our_res, \"Both data structures do not return the same range query result.\""
   ]
  }
 ],
 "metadata": {
  "kernelspec": {
   "display_name": "Python 3 (ipykernel)",
   "language": "python",
   "name": "python3"
  },
  "language_info": {
   "codemirror_mode": {
    "name": "ipython",
    "version": 3
   },
   "file_extension": ".py",
   "mimetype": "text/x-python",
   "name": "python",
   "nbconvert_exporter": "python",
   "pygments_lexer": "ipython3",
   "version": "3.9.12"
  }
 },
 "nbformat": 4,
 "nbformat_minor": 5
}
