{
 "cells": [
  {
   "cell_type": "markdown",
   "id": "6ea07c37",
   "metadata": {},
   "source": [
    "# Analyzing Yahoo Finance Stock Price Data"
   ]
  },
  {
   "cell_type": "markdown",
   "id": "c38192be",
   "metadata": {},
   "source": [
    "In this project, we practice using dictionaries to analyze historical data on prices for several hundred stocks. The data came from Yahoo Finance, and it was provided by Dataquest. Each stock's data is in a seperate csv file, and they are all stored in the 'prices' folder. "
   ]
  },
  {
   "cell_type": "markdown",
   "id": "a90cf35e",
   "metadata": {},
   "source": [
    "## Reading the Data into a Single Data Structure"
   ]
  },
  {
   "cell_type": "code",
   "execution_count": 2,
   "id": "295507a9",
   "metadata": {},
   "outputs": [],
   "source": [
    "import os\n",
    "import pandas as pd"
   ]
  },
  {
   "cell_type": "code",
   "execution_count": 3,
   "id": "e9b42945",
   "metadata": {},
   "outputs": [],
   "source": [
    "prices_dict = {}\n",
    "for name in os.listdir('prices'):\n",
    "    df = pd.read_csv(os.path.join(\"prices\", name))\n",
    "    prices_dict[name[:-4]] = df"
   ]
  },
  {
   "cell_type": "code",
   "execution_count": 4,
   "id": "bbb866c5",
   "metadata": {},
   "outputs": [
    {
     "data": {
      "text/html": [
       "<div>\n",
       "<style scoped>\n",
       "    .dataframe tbody tr th:only-of-type {\n",
       "        vertical-align: middle;\n",
       "    }\n",
       "\n",
       "    .dataframe tbody tr th {\n",
       "        vertical-align: top;\n",
       "    }\n",
       "\n",
       "    .dataframe thead th {\n",
       "        text-align: right;\n",
       "    }\n",
       "</style>\n",
       "<table border=\"1\" class=\"dataframe\">\n",
       "  <thead>\n",
       "    <tr style=\"text-align: right;\">\n",
       "      <th></th>\n",
       "      <th>date</th>\n",
       "      <th>close</th>\n",
       "      <th>open</th>\n",
       "      <th>high</th>\n",
       "      <th>low</th>\n",
       "      <th>volume</th>\n",
       "    </tr>\n",
       "  </thead>\n",
       "  <tbody>\n",
       "    <tr>\n",
       "      <th>0</th>\n",
       "      <td>2007-01-03</td>\n",
       "      <td>83.800002</td>\n",
       "      <td>86.289999</td>\n",
       "      <td>86.579999</td>\n",
       "      <td>81.899999</td>\n",
       "      <td>309579900</td>\n",
       "    </tr>\n",
       "    <tr>\n",
       "      <th>1</th>\n",
       "      <td>2007-01-04</td>\n",
       "      <td>85.659998</td>\n",
       "      <td>84.050001</td>\n",
       "      <td>85.949998</td>\n",
       "      <td>83.820003</td>\n",
       "      <td>211815100</td>\n",
       "    </tr>\n",
       "    <tr>\n",
       "      <th>2</th>\n",
       "      <td>2007-01-05</td>\n",
       "      <td>85.049997</td>\n",
       "      <td>85.770000</td>\n",
       "      <td>86.199997</td>\n",
       "      <td>84.400002</td>\n",
       "      <td>208685400</td>\n",
       "    </tr>\n",
       "    <tr>\n",
       "      <th>3</th>\n",
       "      <td>2007-01-08</td>\n",
       "      <td>85.470000</td>\n",
       "      <td>85.959998</td>\n",
       "      <td>86.529998</td>\n",
       "      <td>85.280003</td>\n",
       "      <td>199276700</td>\n",
       "    </tr>\n",
       "    <tr>\n",
       "      <th>4</th>\n",
       "      <td>2007-01-09</td>\n",
       "      <td>92.570003</td>\n",
       "      <td>86.450003</td>\n",
       "      <td>92.979999</td>\n",
       "      <td>85.150000</td>\n",
       "      <td>837324600</td>\n",
       "    </tr>\n",
       "  </tbody>\n",
       "</table>\n",
       "</div>"
      ],
      "text/plain": [
       "         date      close       open       high        low     volume\n",
       "0  2007-01-03  83.800002  86.289999  86.579999  81.899999  309579900\n",
       "1  2007-01-04  85.659998  84.050001  85.949998  83.820003  211815100\n",
       "2  2007-01-05  85.049997  85.770000  86.199997  84.400002  208685400\n",
       "3  2007-01-08  85.470000  85.959998  86.529998  85.280003  199276700\n",
       "4  2007-01-09  92.570003  86.450003  92.979999  85.150000  837324600"
      ]
     },
     "execution_count": 4,
     "metadata": {},
     "output_type": "execute_result"
    }
   ],
   "source": [
    "prices_dict['aapl'].head() #Here are the first few rows of the data for Apple stock"
   ]
  },
  {
   "cell_type": "markdown",
   "id": "a047037d",
   "metadata": {},
   "source": [
    "## Finding Stocks with the Minimum and Maximum Average Closing Price"
   ]
  },
  {
   "cell_type": "code",
   "execution_count": 5,
   "id": "80af025d",
   "metadata": {},
   "outputs": [],
   "source": [
    "ave_closing_price_dict = {}\n",
    "for key in prices_dict:\n",
    "    ave_closing_price_dict[key] = prices_dict[key]['close'].mean()"
   ]
  },
  {
   "cell_type": "code",
   "execution_count": 6,
   "id": "49e00e19",
   "metadata": {},
   "outputs": [],
   "source": [
    "ave_close_df = pd.DataFrame.from_dict(ave_closing_price_dict, orient='index', columns=['ave_close_price'])"
   ]
  },
  {
   "cell_type": "code",
   "execution_count": 7,
   "id": "d69e27ec",
   "metadata": {},
   "outputs": [
    {
     "data": {
      "text/html": [
       "<div>\n",
       "<style scoped>\n",
       "    .dataframe tbody tr th:only-of-type {\n",
       "        vertical-align: middle;\n",
       "    }\n",
       "\n",
       "    .dataframe tbody tr th {\n",
       "        vertical-align: top;\n",
       "    }\n",
       "\n",
       "    .dataframe thead th {\n",
       "        text-align: right;\n",
       "    }\n",
       "</style>\n",
       "<table border=\"1\" class=\"dataframe\">\n",
       "  <thead>\n",
       "    <tr style=\"text-align: right;\">\n",
       "      <th></th>\n",
       "      <th>ave_close_price</th>\n",
       "    </tr>\n",
       "  </thead>\n",
       "  <tbody>\n",
       "    <tr>\n",
       "      <th>blfs</th>\n",
       "      <td>0.812276</td>\n",
       "    </tr>\n",
       "  </tbody>\n",
       "</table>\n",
       "</div>"
      ],
      "text/plain": [
       "      ave_close_price\n",
       "blfs         0.812276"
      ]
     },
     "execution_count": 7,
     "metadata": {},
     "output_type": "execute_result"
    }
   ],
   "source": [
    "ave_close_df.sort_values(by='ave_close_price').head(1) #Stock with lowest average closing price"
   ]
  },
  {
   "cell_type": "code",
   "execution_count": 8,
   "id": "e80f65fb",
   "metadata": {},
   "outputs": [
    {
     "data": {
      "text/html": [
       "<div>\n",
       "<style scoped>\n",
       "    .dataframe tbody tr th:only-of-type {\n",
       "        vertical-align: middle;\n",
       "    }\n",
       "\n",
       "    .dataframe tbody tr th {\n",
       "        vertical-align: top;\n",
       "    }\n",
       "\n",
       "    .dataframe thead th {\n",
       "        text-align: right;\n",
       "    }\n",
       "</style>\n",
       "<table border=\"1\" class=\"dataframe\">\n",
       "  <thead>\n",
       "    <tr style=\"text-align: right;\">\n",
       "      <th></th>\n",
       "      <th>ave_close_price</th>\n",
       "    </tr>\n",
       "  </thead>\n",
       "  <tbody>\n",
       "    <tr>\n",
       "      <th>amzn</th>\n",
       "      <td>275.134078</td>\n",
       "    </tr>\n",
       "  </tbody>\n",
       "</table>\n",
       "</div>"
      ],
      "text/plain": [
       "      ave_close_price\n",
       "amzn       275.134078"
      ]
     },
     "execution_count": 8,
     "metadata": {},
     "output_type": "execute_result"
    }
   ],
   "source": [
    "ave_close_df.sort_values(by='ave_close_price', ascending=False).head(1) #Stock with highest average closing price"
   ]
  },
  {
   "cell_type": "markdown",
   "id": "5937bf2d",
   "metadata": {},
   "source": [
    "## Grouping Trades per Day"
   ]
  },
  {
   "cell_type": "code",
   "execution_count": 9,
   "id": "53c9a39d",
   "metadata": {},
   "outputs": [],
   "source": [
    "dates_dict = {}\n",
    "for key in prices_dict:\n",
    "    df = prices_dict[key]\n",
    "    for index, row in df.iterrows():\n",
    "        date = row['date']\n",
    "        if date in dates_dict:\n",
    "            dates_dict[date].append((key, row['volume']))\n",
    "        else:\n",
    "            dates_dict[date] = [(key, row['volume'])]"
   ]
  },
  {
   "cell_type": "code",
   "execution_count": 10,
   "id": "0899a957",
   "metadata": {},
   "outputs": [
    {
     "data": {
      "text/plain": [
       "[('cme', 3981500),\n",
       " ('arwr', 4500),\n",
       " ('abcb', 30900),\n",
       " ('bwen', 2700),\n",
       " ('bios', 91300),\n",
       " ('bkmu', 201200),\n",
       " ('ctib', 163700),\n",
       " ('abco', 523000),\n",
       " ('apps', 0),\n",
       " ('casc', 454200)]"
      ]
     },
     "execution_count": 10,
     "metadata": {},
     "output_type": "execute_result"
    }
   ],
   "source": [
    "dates_dict['2007-01-03'][:10]"
   ]
  },
  {
   "cell_type": "markdown",
   "id": "19b4bee2",
   "metadata": {},
   "source": [
    "Above, we see that we have created a dictionary where each key is date and each value is a list of tuples containing the name and volume of each stock traded on that day. "
   ]
  },
  {
   "cell_type": "markdown",
   "id": "b87dcee4",
   "metadata": {},
   "source": [
    "## Finding the Stock with the Highest Volume for Each Day"
   ]
  },
  {
   "cell_type": "code",
   "execution_count": 11,
   "id": "3b553841",
   "metadata": {},
   "outputs": [],
   "source": [
    "top_stock_dict = {}\n",
    "for key in dates_dict:\n",
    "    df = pd.DataFrame(dates_dict[key])\n",
    "    top_val = df.sort_values(by=1, ascending=False).head(1)\n",
    "    top_stock_dict[key] = tuple(top_val[1]) + tuple(top_val[0])"
   ]
  },
  {
   "cell_type": "code",
   "execution_count": 12,
   "id": "fbc13618",
   "metadata": {},
   "outputs": [
    {
     "data": {
      "text/plain": [
       "(309579900, 'aapl')"
      ]
     },
     "execution_count": 12,
     "metadata": {},
     "output_type": "execute_result"
    }
   ],
   "source": [
    "top_stock_dict['2007-01-03'] #For example, Apple was the stock with the highest volume on 01/03/2007."
   ]
  },
  {
   "cell_type": "markdown",
   "id": "3b5d3387",
   "metadata": {},
   "source": [
    "## Finding the Days with the Highest Volume"
   ]
  },
  {
   "cell_type": "code",
   "execution_count": 13,
   "id": "e989fa34",
   "metadata": {},
   "outputs": [],
   "source": [
    "total_volume_day_dict = {}\n",
    "for day in dates_dict:\n",
    "    df = pd.DataFrame(dates_dict[day])\n",
    "    total_volume_day_dict[day] = df[1].sum()"
   ]
  },
  {
   "cell_type": "code",
   "execution_count": 14,
   "id": "3c091461",
   "metadata": {},
   "outputs": [],
   "source": [
    "total_volume_df = pd.DataFrame.from_dict(total_volume_day_dict, orient='index')"
   ]
  },
  {
   "cell_type": "code",
   "execution_count": 15,
   "id": "ea35e21c",
   "metadata": {},
   "outputs": [
    {
     "data": {
      "text/plain": [
       "2008-01-23    1964583900\n",
       "2008-10-10    1770266900\n",
       "2007-07-26    1611272800\n",
       "2008-10-08    1599183500\n",
       "2008-01-22    1578877700\n",
       "2008-02-07    1559032100\n",
       "2008-09-29    1555072400\n",
       "2007-11-08    1553880500\n",
       "2008-01-16    1536176400\n",
       "2008-01-24    1533363200\n",
       "Name: 0, dtype: int64"
      ]
     },
     "execution_count": 15,
     "metadata": {},
     "output_type": "execute_result"
    }
   ],
   "source": [
    "total_volume_df[0].sort_values(ascending=False).head(10)"
   ]
  },
  {
   "cell_type": "markdown",
   "id": "13077fd7",
   "metadata": {},
   "source": [
    "Above, we see that the highest volume days are all in 2007 and 2008. This makes sense as it would correspond to the financial crisis. "
   ]
  },
  {
   "cell_type": "code",
   "execution_count": 16,
   "id": "5a663cff",
   "metadata": {},
   "outputs": [],
   "source": [
    "import matplotlib.pyplot as plt"
   ]
  },
  {
   "cell_type": "code",
   "execution_count": 17,
   "id": "6e487b85",
   "metadata": {},
   "outputs": [],
   "source": [
    "total_volume_df['30_day_avg'] = total_volume_df[0].rolling(30, closed= \"left\").mean()"
   ]
  },
  {
   "cell_type": "code",
   "execution_count": 18,
   "id": "01e85ba6",
   "metadata": {},
   "outputs": [
    {
     "data": {
      "image/png": "[encoded data removed]",
      "text/plain": [
       "<Figure size 432x288 with 1 Axes>"
      ]
     },
     "metadata": {
      "needs_background": "light"
     },
     "output_type": "display_data"
    }
   ],
   "source": [
    "plt.plot(total_volume_df.index, total_volume_df['30_day_avg'])\n",
    "plt.xticks(['2007-01-03', '2012-01-03', '2016-01-05'])\n",
    "plt.title('Volume by Day')\n",
    "plt.show()"
   ]
  },
  {
   "cell_type": "markdown",
   "id": "fa5c9226",
   "metadata": {},
   "source": [
    "Here, we see that total volume was generally higher in 2007-2008, and has generally declined since then. This could be because of the financial crisis, and the rise in passively managed index funds. "
   ]
  },
  {
   "cell_type": "markdown",
   "id": "f7eb614a",
   "metadata": {},
   "source": [
    "## Finding the Most Profitable Stocks Over the Time Period"
   ]
  },
  {
   "cell_type": "code",
   "execution_count": 19,
   "id": "0b55d9fb",
   "metadata": {},
   "outputs": [],
   "source": [
    "profits_dict = {}\n",
    "for stock in prices_dict:\n",
    "    df = prices_dict[stock]\n",
    "    start_price = df.loc[1, 'close']\n",
    "    end_price = df.loc[len(df.index) - 1, 'close']\n",
    "    profit = (end_price - start_price)/ start_price * 100\n",
    "    profits_dict[stock] = profit"
   ]
  },
  {
   "cell_type": "code",
   "execution_count": 20,
   "id": "13507651",
   "metadata": {},
   "outputs": [],
   "source": [
    "profits_df = pd.DataFrame.from_dict(profits_dict, orient='index')"
   ]
  },
  {
   "cell_type": "code",
   "execution_count": 21,
   "id": "bf98cdf5",
   "metadata": {},
   "outputs": [
    {
     "data": {
      "text/plain": [
       "admp    7483.838923\n",
       "adxs    4361.956522\n",
       "arcw    3898.600490\n",
       "blfs    2437.436564\n",
       "amzn    2218.740215\n",
       "apdn    1732.966740\n",
       "anip    1707.355447\n",
       "axgn    1571.428571\n",
       "cui     1525.162516\n",
       "achc    1283.871032\n",
       "Name: 0, dtype: float64"
      ]
     },
     "execution_count": 21,
     "metadata": {},
     "output_type": "execute_result"
    }
   ],
   "source": [
    "profits_df[0].sort_values(ascending=False).head(10)"
   ]
  },
  {
   "cell_type": "code",
   "execution_count": 24,
   "id": "f5ea4858",
   "metadata": {},
   "outputs": [
    {
     "data": {
      "text/plain": [
       "126.32237672563738"
      ]
     },
     "execution_count": 24,
     "metadata": {},
     "output_type": "execute_result"
    }
   ],
   "source": [
    "profits_df[0].mean()"
   ]
  },
  {
   "cell_type": "markdown",
   "id": "3599d9a8",
   "metadata": {},
   "source": [
    "Above, we see the ten most profitable stocks in the data, and we see that the average stock profit over the time period was 126%. "
   ]
  }
 ],
 "metadata": {
  "kernelspec": {
   "display_name": "Python 3 (ipykernel)",
   "language": "python",
   "name": "python3"
  },
  "language_info": {
   "codemirror_mode": {
    "name": "ipython",
    "version": 3
   },
   "file_extension": ".py",
   "mimetype": "text/x-python",
   "name": "python",
   "nbconvert_exporter": "python",
   "pygments_lexer": "ipython3",
   "version": "3.9.12"
  }
 },
 "nbformat": 4,
 "nbformat_minor": 5
}
